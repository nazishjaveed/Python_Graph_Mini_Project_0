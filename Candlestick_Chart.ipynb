{
 "cells": [
  {
   "cell_type": "markdown",
   "metadata": {},
   "source": [
    "# Create Candle-Stick Chart Using Python 📉🕯️📈"
   ]
  },
  {
   "cell_type": "code",
   "execution_count": 5,
   "metadata": {},
   "outputs": [
    {
     "name": "stdout",
     "output_type": "stream",
     "text": [
      "Candlestick chart saved as 'candlestick_chart.html'\n"
     ]
    }
   ],
   "source": [
    "import plotly.graph_objects as go\n",
    "\n",
    "# Sample data for the candlestick chart (Date, Open, High, Low, Close)\n",
    "data = [\n",
    "    ['2024-12-01', 100, 105, 98, 102],\n",
    "    ['2024-12-02', 102, 108, 101, 106],\n",
    "    ['2024-12-03', 106, 110, 104, 107],\n",
    "    ['2024-12-04', 107, 112, 106, 111],\n",
    "    ['2024-12-05', 111, 115, 109, 113]\n",
    "]\n",
    "\n",
    "# Convert the data to a suitable format for Plotly\n",
    "dates = [item[0] for item in data]\n",
    "open_prices = [item[1] for item in data]\n",
    "high_prices = [item[2] for item in data]\n",
    "low_prices = [item[3] for item in data]\n",
    "close_prices = [item[4] for item in data]\n",
    "\n",
    "# Create the candlestick chart\n",
    "fig = go.Figure(data=[go.Candlestick(\n",
    "    x=dates,\n",
    "    open=open_prices,\n",
    "    high=high_prices,\n",
    "    low=low_prices,\n",
    "    close=close_prices,\n",
    "    increasing_line_color='green',  # Color for increasing candles\n",
    "    decreasing_line_color='red'    # Color for decreasing candles\n",
    ")])\n",
    "\n",
    "# Add title and labels\n",
    "fig.update_layout(\n",
    "    title='Candlestick Chart Example',\n",
    "    xaxis_title='Date',\n",
    "    yaxis_title='Price',\n",
    "    xaxis_rangeslider_visible=False  # Hide the range slider (optional)\n",
    ")\n",
    "\n",
    "# Save the plot as an HTML file\n",
    "fig.write_html('candlestick_chart.html')\n",
    "\n",
    "# Optionally, print a message confirming the file has been saved\n",
    "print(\"Candlestick chart saved as 'candlestick_chart.html'\")\n"
   ]
  }
 ],
 "metadata": {
  "kernelspec": {
   "display_name": "Python 3",
   "language": "python",
   "name": "python3"
  },
  "language_info": {
   "codemirror_mode": {
    "name": "ipython",
    "version": 3
   },
   "file_extension": ".py",
   "mimetype": "text/x-python",
   "name": "python",
   "nbconvert_exporter": "python",
   "pygments_lexer": "ipython3",
   "version": "3.10.11"
  }
 },
 "nbformat": 4,
 "nbformat_minor": 2
}
